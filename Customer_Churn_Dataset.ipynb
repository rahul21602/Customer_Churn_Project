{
 "cells": [
  {
   "cell_type": "markdown",
   "id": "0139b77d-3667-4402-84de-6250eeae3a1b",
   "metadata": {},
   "source": [
    "# 1. Load the dataset and show the first five rows.\n"
   ]
  },
  {
   "cell_type": "code",
   "execution_count": 1,
   "id": "7010031b-bf11-42e5-834e-6849b0e6a37a",
   "metadata": {},
   "outputs": [
    {
     "data": {
      "text/html": [
       "<div>\n",
       "<style scoped>\n",
       "    .dataframe tbody tr th:only-of-type {\n",
       "        vertical-align: middle;\n",
       "    }\n",
       "\n",
       "    .dataframe tbody tr th {\n",
       "        vertical-align: top;\n",
       "    }\n",
       "\n",
       "    .dataframe thead th {\n",
       "        text-align: right;\n",
       "    }\n",
       "</style>\n",
       "<table border=\"1\" class=\"dataframe\">\n",
       "  <thead>\n",
       "    <tr style=\"text-align: right;\">\n",
       "      <th></th>\n",
       "      <th>CustomerID</th>\n",
       "      <th>Gender</th>\n",
       "      <th>Age</th>\n",
       "      <th>MonthlyCharges</th>\n",
       "      <th>Tenure (Months)</th>\n",
       "      <th>ContractType</th>\n",
       "      <th>PaymentMethod</th>\n",
       "      <th>InternetService</th>\n",
       "      <th>Churn</th>\n",
       "    </tr>\n",
       "  </thead>\n",
       "  <tbody>\n",
       "    <tr>\n",
       "      <th>0</th>\n",
       "      <td>C0001</td>\n",
       "      <td>Male</td>\n",
       "      <td>38</td>\n",
       "      <td>110.42</td>\n",
       "      <td>14</td>\n",
       "      <td>Month-to-month</td>\n",
       "      <td>Bank Transfer</td>\n",
       "      <td>Fiber optic</td>\n",
       "      <td>No</td>\n",
       "    </tr>\n",
       "    <tr>\n",
       "      <th>1</th>\n",
       "      <td>C0002</td>\n",
       "      <td>Female</td>\n",
       "      <td>49</td>\n",
       "      <td>54.83</td>\n",
       "      <td>30</td>\n",
       "      <td>Two year</td>\n",
       "      <td>Electronic Check</td>\n",
       "      <td>Fiber optic</td>\n",
       "      <td>No</td>\n",
       "    </tr>\n",
       "    <tr>\n",
       "      <th>2</th>\n",
       "      <td>C0003</td>\n",
       "      <td>Male</td>\n",
       "      <td>40</td>\n",
       "      <td>71.40</td>\n",
       "      <td>68</td>\n",
       "      <td>One year</td>\n",
       "      <td>Electronic Check</td>\n",
       "      <td>Fiber optic</td>\n",
       "      <td>No</td>\n",
       "    </tr>\n",
       "    <tr>\n",
       "      <th>3</th>\n",
       "      <td>C0004</td>\n",
       "      <td>Male</td>\n",
       "      <td>50</td>\n",
       "      <td>98.37</td>\n",
       "      <td>18</td>\n",
       "      <td>Month-to-month</td>\n",
       "      <td>Bank Transfer</td>\n",
       "      <td>DSL</td>\n",
       "      <td>No</td>\n",
       "    </tr>\n",
       "    <tr>\n",
       "      <th>4</th>\n",
       "      <td>C0005</td>\n",
       "      <td>Male</td>\n",
       "      <td>20</td>\n",
       "      <td>59.65</td>\n",
       "      <td>62</td>\n",
       "      <td>Month-to-month</td>\n",
       "      <td>Mailed Check</td>\n",
       "      <td>DSL</td>\n",
       "      <td>No</td>\n",
       "    </tr>\n",
       "  </tbody>\n",
       "</table>\n",
       "</div>"
      ],
      "text/plain": [
       "  CustomerID  Gender  Age  MonthlyCharges  Tenure (Months)    ContractType  \\\n",
       "0      C0001    Male   38          110.42               14  Month-to-month   \n",
       "1      C0002  Female   49           54.83               30        Two year   \n",
       "2      C0003    Male   40           71.40               68        One year   \n",
       "3      C0004    Male   50           98.37               18  Month-to-month   \n",
       "4      C0005    Male   20           59.65               62  Month-to-month   \n",
       "\n",
       "      PaymentMethod InternetService Churn  \n",
       "0     Bank Transfer     Fiber optic    No  \n",
       "1  Electronic Check     Fiber optic    No  \n",
       "2  Electronic Check     Fiber optic    No  \n",
       "3     Bank Transfer             DSL    No  \n",
       "4      Mailed Check             DSL    No  "
      ]
     },
     "execution_count": 1,
     "metadata": {},
     "output_type": "execute_result"
    }
   ],
   "source": [
    "import pandas as pd\n",
    "data = pd.read_csv(\"C:/Users/Lenovo/Downloads/customer_churn_sample.csv\")\n",
    "data.head()"
   ]
  },
  {
   "cell_type": "code",
   "execution_count": 2,
   "id": "a2732457-dbf2-479c-bd22-d5f879126558",
   "metadata": {},
   "outputs": [
    {
     "name": "stdout",
     "output_type": "stream",
     "text": [
      "<class 'pandas.core.frame.DataFrame'>\n",
      "RangeIndex: 500 entries, 0 to 499\n",
      "Data columns (total 9 columns):\n",
      " #   Column           Non-Null Count  Dtype  \n",
      "---  ------           --------------  -----  \n",
      " 0   CustomerID       500 non-null    object \n",
      " 1   Gender           500 non-null    object \n",
      " 2   Age              500 non-null    int64  \n",
      " 3   MonthlyCharges   500 non-null    float64\n",
      " 4   Tenure (Months)  500 non-null    int64  \n",
      " 5   ContractType     500 non-null    object \n",
      " 6   PaymentMethod    500 non-null    object \n",
      " 7   InternetService  500 non-null    object \n",
      " 8   Churn            500 non-null    object \n",
      "dtypes: float64(1), int64(2), object(6)\n",
      "memory usage: 35.3+ KB\n"
     ]
    }
   ],
   "source": [
    "data.info()"
   ]
  },
  {
   "cell_type": "markdown",
   "id": "4d137b9e-d664-45d8-865e-93b569ba24c8",
   "metadata": {},
   "source": [
    "# 2. Find how many customers have churned and how many have not"
   ]
  },
  {
   "cell_type": "code",
   "execution_count": 3,
   "id": "00affca0-41e3-492d-a286-2de252af4656",
   "metadata": {},
   "outputs": [
    {
     "data": {
      "text/plain": [
       "Churn\n",
       "No     381\n",
       "Yes    119\n",
       "Name: count, dtype: int64"
      ]
     },
     "execution_count": 3,
     "metadata": {},
     "output_type": "execute_result"
    }
   ],
   "source": [
    "data['Churn'].value_counts()"
   ]
  },
  {
   "cell_type": "markdown",
   "id": "4634b769-dab9-4fd4-8519-f1c2c7e08bec",
   "metadata": {},
   "source": [
    "# 3. Calculate average MonthlyCharges and Tenure for customers who have churned"
   ]
  },
  {
   "cell_type": "code",
   "execution_count": 4,
   "id": "84917a7c-27f0-469d-9fca-77d99eab9dc3",
   "metadata": {},
   "outputs": [
    {
     "data": {
      "text/plain": [
       "MonthlyCharges     66.387731\n",
       "Tenure (Months)    34.319328\n",
       "dtype: float64"
      ]
     },
     "execution_count": 4,
     "metadata": {},
     "output_type": "execute_result"
    }
   ],
   "source": [
    "data[data['Churn'] == 'Yes'][['MonthlyCharges', 'Tenure (Months)']].mean()"
   ]
  },
  {
   "cell_type": "code",
   "execution_count": 5,
   "id": "5d19ace3-3fc2-49d0-ba27-4db51bf1026a",
   "metadata": {},
   "outputs": [
    {
     "data": {
      "text/plain": [
       "MonthlyCharges     68.826273\n",
       "Tenure (Months)    36.477690\n",
       "dtype: float64"
      ]
     },
     "execution_count": 5,
     "metadata": {},
     "output_type": "execute_result"
    }
   ],
   "source": [
    "data[data['Churn'] == 'No'][['MonthlyCharges', 'Tenure (Months)']].mean()"
   ]
  },
  {
   "cell_type": "markdown",
   "id": "95861cd2-ada8-413a-883d-5316543d4555",
   "metadata": {},
   "source": [
    "# 4. Plot the distribution of 'InternetService' types"
   ]
  },
  {
   "cell_type": "code",
   "execution_count": 6,
   "id": "aca06a2b-ff63-4094-83d2-b898a7d20bde",
   "metadata": {},
   "outputs": [
    {
     "data": {
      "image/png": "[encoded data removed]",
      "text/plain": [
       "<Figure size 640x480 with 1 Axes>"
      ]
     },
     "metadata": {},
     "output_type": "display_data"
    }
   ],
   "source": [
    "import seaborn as sns\n",
    "import matplotlib.pyplot as plt\n",
    "\n",
    "sns.countplot(data=data, x='InternetService')\n",
    "plt.title(\"Internet Service Distribution\")\n",
    "plt.show()"
   ]
  },
  {
   "cell_type": "markdown",
   "id": "09589962-ad5a-443f-98f7-d2f4b3662054",
   "metadata": {},
   "source": [
    "# 5. Check for missing values"
   ]
  },
  {
   "cell_type": "code",
   "execution_count": 7,
   "id": "6c3c6a58-c35a-433e-b0f0-9cf9fc7d8dca",
   "metadata": {},
   "outputs": [
    {
     "data": {
      "text/plain": [
       "CustomerID         0\n",
       "Gender             0\n",
       "Age                0\n",
       "MonthlyCharges     0\n",
       "Tenure (Months)    0\n",
       "ContractType       0\n",
       "PaymentMethod      0\n",
       "InternetService    0\n",
       "Churn              0\n",
       "dtype: int64"
      ]
     },
     "execution_count": 7,
     "metadata": {},
     "output_type": "execute_result"
    }
   ],
   "source": [
    "data.isnull().sum()"
   ]
  },
  {
   "cell_type": "code",
   "execution_count": 8,
   "id": "28802316-5bd8-493d-a560-86c47d9a2c37",
   "metadata": {},
   "outputs": [
    {
     "data": {
      "text/html": [
       "<div>\n",
       "<style scoped>\n",
       "    .dataframe tbody tr th:only-of-type {\n",
       "        vertical-align: middle;\n",
       "    }\n",
       "\n",
       "    .dataframe tbody tr th {\n",
       "        vertical-align: top;\n",
       "    }\n",
       "\n",
       "    .dataframe thead th {\n",
       "        text-align: right;\n",
       "    }\n",
       "</style>\n",
       "<table border=\"1\" class=\"dataframe\">\n",
       "  <thead>\n",
       "    <tr style=\"text-align: right;\">\n",
       "      <th></th>\n",
       "      <th>count</th>\n",
       "      <th>mean</th>\n",
       "      <th>std</th>\n",
       "      <th>min</th>\n",
       "      <th>25%</th>\n",
       "      <th>50%</th>\n",
       "      <th>75%</th>\n",
       "      <th>max</th>\n",
       "    </tr>\n",
       "  </thead>\n",
       "  <tbody>\n",
       "    <tr>\n",
       "      <th>Age</th>\n",
       "      <td>500.0</td>\n",
       "      <td>43.8000</td>\n",
       "      <td>14.835504</td>\n",
       "      <td>18.00</td>\n",
       "      <td>31.0000</td>\n",
       "      <td>44.00</td>\n",
       "      <td>56.00</td>\n",
       "      <td>69.00</td>\n",
       "    </tr>\n",
       "    <tr>\n",
       "      <th>MonthlyCharges</th>\n",
       "      <td>500.0</td>\n",
       "      <td>68.2459</td>\n",
       "      <td>28.755396</td>\n",
       "      <td>20.46</td>\n",
       "      <td>42.9825</td>\n",
       "      <td>67.41</td>\n",
       "      <td>93.23</td>\n",
       "      <td>119.79</td>\n",
       "    </tr>\n",
       "    <tr>\n",
       "      <th>Tenure (Months)</th>\n",
       "      <td>500.0</td>\n",
       "      <td>35.9640</td>\n",
       "      <td>20.522013</td>\n",
       "      <td>1.00</td>\n",
       "      <td>18.0000</td>\n",
       "      <td>37.00</td>\n",
       "      <td>53.00</td>\n",
       "      <td>71.00</td>\n",
       "    </tr>\n",
       "  </tbody>\n",
       "</table>\n",
       "</div>"
      ],
      "text/plain": [
       "                 count     mean        std    min      25%    50%    75%  \\\n",
       "Age              500.0  43.8000  14.835504  18.00  31.0000  44.00  56.00   \n",
       "MonthlyCharges   500.0  68.2459  28.755396  20.46  42.9825  67.41  93.23   \n",
       "Tenure (Months)  500.0  35.9640  20.522013   1.00  18.0000  37.00  53.00   \n",
       "\n",
       "                    max  \n",
       "Age               69.00  \n",
       "MonthlyCharges   119.79  \n",
       "Tenure (Months)   71.00  "
      ]
     },
     "execution_count": 8,
     "metadata": {},
     "output_type": "execute_result"
    }
   ],
   "source": [
    "data.describe().T"
   ]
  },
  {
   "cell_type": "code",
   "execution_count": 9,
   "id": "50547288-c9c5-47e9-8eae-1a27fe498145",
   "metadata": {},
   "outputs": [
    {
     "data": {
      "text/html": [
       "<div>\n",
       "<style scoped>\n",
       "    .dataframe tbody tr th:only-of-type {\n",
       "        vertical-align: middle;\n",
       "    }\n",
       "\n",
       "    .dataframe tbody tr th {\n",
       "        vertical-align: top;\n",
       "    }\n",
       "\n",
       "    .dataframe thead th {\n",
       "        text-align: right;\n",
       "    }\n",
       "</style>\n",
       "<table border=\"1\" class=\"dataframe\">\n",
       "  <thead>\n",
       "    <tr style=\"text-align: right;\">\n",
       "      <th></th>\n",
       "      <th>count</th>\n",
       "      <th>unique</th>\n",
       "      <th>top</th>\n",
       "      <th>freq</th>\n",
       "    </tr>\n",
       "  </thead>\n",
       "  <tbody>\n",
       "    <tr>\n",
       "      <th>CustomerID</th>\n",
       "      <td>500</td>\n",
       "      <td>500</td>\n",
       "      <td>C0001</td>\n",
       "      <td>1</td>\n",
       "    </tr>\n",
       "    <tr>\n",
       "      <th>Gender</th>\n",
       "      <td>500</td>\n",
       "      <td>2</td>\n",
       "      <td>Female</td>\n",
       "      <td>256</td>\n",
       "    </tr>\n",
       "    <tr>\n",
       "      <th>ContractType</th>\n",
       "      <td>500</td>\n",
       "      <td>3</td>\n",
       "      <td>Month-to-month</td>\n",
       "      <td>305</td>\n",
       "    </tr>\n",
       "    <tr>\n",
       "      <th>PaymentMethod</th>\n",
       "      <td>500</td>\n",
       "      <td>4</td>\n",
       "      <td>Mailed Check</td>\n",
       "      <td>138</td>\n",
       "    </tr>\n",
       "    <tr>\n",
       "      <th>InternetService</th>\n",
       "      <td>500</td>\n",
       "      <td>3</td>\n",
       "      <td>Fiber optic</td>\n",
       "      <td>271</td>\n",
       "    </tr>\n",
       "    <tr>\n",
       "      <th>Churn</th>\n",
       "      <td>500</td>\n",
       "      <td>2</td>\n",
       "      <td>No</td>\n",
       "      <td>381</td>\n",
       "    </tr>\n",
       "  </tbody>\n",
       "</table>\n",
       "</div>"
      ],
      "text/plain": [
       "                count unique             top freq\n",
       "CustomerID        500    500           C0001    1\n",
       "Gender            500      2          Female  256\n",
       "ContractType      500      3  Month-to-month  305\n",
       "PaymentMethod     500      4    Mailed Check  138\n",
       "InternetService   500      3     Fiber optic  271\n",
       "Churn             500      2              No  381"
      ]
     },
     "execution_count": 9,
     "metadata": {},
     "output_type": "execute_result"
    }
   ],
   "source": [
    "data.describe(include='object').T"
   ]
  },
  {
   "cell_type": "code",
   "execution_count": 10,
   "id": "985d4ae1-0362-4ce5-90a5-f0166e81b6bc",
   "metadata": {},
   "outputs": [
    {
     "data": {
      "image/png": "[encoded data removed]",
      "text/plain": [
       "<Figure size 800x400 with 1 Axes>"
      ]
     },
     "metadata": {},
     "output_type": "display_data"
    },
    {
     "data": {
      "image/png": "[encoded data removed]",
      "text/plain": [
       "<Figure size 800x400 with 1 Axes>"
      ]
     },
     "metadata": {},
     "output_type": "display_data"
    },
    {
     "data": {
      "image/png": "[encoded data removed]",
      "text/plain": [
       "<Figure size 800x400 with 1 Axes>"
      ]
     },
     "metadata": {},
     "output_type": "display_data"
    }
   ],
   "source": [
    "# Select numeric columns from the DataFrame\n",
    "numeric_columns = data.select_dtypes(include='number').columns\n",
    "\n",
    "# Iterate over each numeric column\n",
    "for col in numeric_columns:\n",
    "    # Create a new figure for each column with specified size\n",
    "    plt.figure(figsize=(8, 4))\n",
    "\n",
    "    # Create a histogram with a kernel density estimate (KDE) for the current numeric column\n",
    "    sns.histplot(data[col], bins=30, kde=True)\n",
    "\n",
    "    # Set the title of the plot to indicate which column is being visualized\n",
    "    plt.title(f'Histogram of {col}')\n",
    "\n",
    "    # Label the x-axis with the name of the numeric column\n",
    "    plt.xlabel(col)\n",
    "\n",
    "    # Label the y-axis with 'Frequency' to represent the count of occurrences\n",
    "    plt.ylabel('Frequency')\n",
    "\n",
    "    # Display the plot\n",
    "    plt.show()"
   ]
  },
  {
   "cell_type": "markdown",
   "id": "bd68a1cd-cd5d-4391-b844-a3c819a680a5",
   "metadata": {},
   "source": [
    "# 6. Encode the categorical variables"
   ]
  },
  {
   "cell_type": "code",
   "execution_count": 11,
   "id": "8ffe1c23-7178-4546-a6a8-3a570ec957f8",
   "metadata": {},
   "outputs": [
    {
     "name": "stdout",
     "output_type": "stream",
     "text": [
      "<class 'pandas.core.frame.DataFrame'>\n",
      "RangeIndex: 500 entries, 0 to 499\n",
      "Data columns (total 9 columns):\n",
      " #   Column           Non-Null Count  Dtype  \n",
      "---  ------           --------------  -----  \n",
      " 0   CustomerID       500 non-null    object \n",
      " 1   Gender           500 non-null    int32  \n",
      " 2   Age              500 non-null    int64  \n",
      " 3   MonthlyCharges   500 non-null    float64\n",
      " 4   Tenure (Months)  500 non-null    int64  \n",
      " 5   ContractType     500 non-null    int32  \n",
      " 6   PaymentMethod    500 non-null    int32  \n",
      " 7   InternetService  500 non-null    int32  \n",
      " 8   Churn            500 non-null    int32  \n",
      "dtypes: float64(1), int32(5), int64(2), object(1)\n",
      "memory usage: 25.5+ KB\n",
      "None\n",
      "  CustomerID  Gender  Age  MonthlyCharges  Tenure (Months)  ContractType  \\\n",
      "0      C0001       1   38          110.42               14             0   \n",
      "1      C0002       0   49           54.83               30             2   \n",
      "2      C0003       1   40           71.40               68             1   \n",
      "3      C0004       1   50           98.37               18             0   \n",
      "4      C0005       1   20           59.65               62             0   \n",
      "\n",
      "   PaymentMethod  InternetService  Churn  \n",
      "0              0                1      0  \n",
      "1              2                1      0  \n",
      "2              2                1      0  \n",
      "3              0                0      0  \n",
      "4              3                0      0  \n",
      "Label Encoded dataset saved as 'Charn_label_encoded.csv'\n"
     ]
    }
   ],
   "source": [
    "import pandas as pd\n",
    "from sklearn.preprocessing import LabelEncoder\n",
    "\n",
    "# Identify categorical features\n",
    "categorical_features = ['Gender', 'ContractType', 'PaymentMethod', 'InternetService', 'Churn']\n",
    "\n",
    "# Apply Label Encoding\n",
    "LE = LabelEncoder()\n",
    "for col in categorical_features:\n",
    "    data[col] = LE.fit_transform(data[col])\n",
    "\n",
    "# Display dataset info after encoding\n",
    "print(data.info())\n",
    "print(data.head())\n",
    "\n",
    "# Save the processed dataset\n",
    "data.to_csv(\"Charn_label_encoded.csv\", index=False)\n",
    "print(\"Label Encoded dataset saved as 'Charn_label_encoded.csv'\")"
   ]
  },
  {
   "cell_type": "code",
   "execution_count": 12,
   "id": "6eab2015-c21f-416b-b905-9d7bcdf8f7ab",
   "metadata": {},
   "outputs": [
    {
     "data": {
      "text/html": [
       "<div>\n",
       "<style scoped>\n",
       "    .dataframe tbody tr th:only-of-type {\n",
       "        vertical-align: middle;\n",
       "    }\n",
       "\n",
       "    .dataframe tbody tr th {\n",
       "        vertical-align: top;\n",
       "    }\n",
       "\n",
       "    .dataframe thead th {\n",
       "        text-align: right;\n",
       "    }\n",
       "</style>\n",
       "<table border=\"1\" class=\"dataframe\">\n",
       "  <thead>\n",
       "    <tr style=\"text-align: right;\">\n",
       "      <th></th>\n",
       "      <th>CustomerID</th>\n",
       "      <th>Gender</th>\n",
       "      <th>Age</th>\n",
       "      <th>MonthlyCharges</th>\n",
       "      <th>Tenure (Months)</th>\n",
       "      <th>ContractType</th>\n",
       "      <th>PaymentMethod</th>\n",
       "      <th>InternetService</th>\n",
       "      <th>Churn</th>\n",
       "    </tr>\n",
       "  </thead>\n",
       "  <tbody>\n",
       "    <tr>\n",
       "      <th>0</th>\n",
       "      <td>C0001</td>\n",
       "      <td>1</td>\n",
       "      <td>38</td>\n",
       "      <td>110.42</td>\n",
       "      <td>14</td>\n",
       "      <td>0</td>\n",
       "      <td>0</td>\n",
       "      <td>1</td>\n",
       "      <td>0</td>\n",
       "    </tr>\n",
       "    <tr>\n",
       "      <th>1</th>\n",
       "      <td>C0002</td>\n",
       "      <td>0</td>\n",
       "      <td>49</td>\n",
       "      <td>54.83</td>\n",
       "      <td>30</td>\n",
       "      <td>2</td>\n",
       "      <td>2</td>\n",
       "      <td>1</td>\n",
       "      <td>0</td>\n",
       "    </tr>\n",
       "    <tr>\n",
       "      <th>2</th>\n",
       "      <td>C0003</td>\n",
       "      <td>1</td>\n",
       "      <td>40</td>\n",
       "      <td>71.40</td>\n",
       "      <td>68</td>\n",
       "      <td>1</td>\n",
       "      <td>2</td>\n",
       "      <td>1</td>\n",
       "      <td>0</td>\n",
       "    </tr>\n",
       "    <tr>\n",
       "      <th>3</th>\n",
       "      <td>C0004</td>\n",
       "      <td>1</td>\n",
       "      <td>50</td>\n",
       "      <td>98.37</td>\n",
       "      <td>18</td>\n",
       "      <td>0</td>\n",
       "      <td>0</td>\n",
       "      <td>0</td>\n",
       "      <td>0</td>\n",
       "    </tr>\n",
       "    <tr>\n",
       "      <th>4</th>\n",
       "      <td>C0005</td>\n",
       "      <td>1</td>\n",
       "      <td>20</td>\n",
       "      <td>59.65</td>\n",
       "      <td>62</td>\n",
       "      <td>0</td>\n",
       "      <td>3</td>\n",
       "      <td>0</td>\n",
       "      <td>0</td>\n",
       "    </tr>\n",
       "  </tbody>\n",
       "</table>\n",
       "</div>"
      ],
      "text/plain": [
       "  CustomerID  Gender  Age  MonthlyCharges  Tenure (Months)  ContractType  \\\n",
       "0      C0001       1   38          110.42               14             0   \n",
       "1      C0002       0   49           54.83               30             2   \n",
       "2      C0003       1   40           71.40               68             1   \n",
       "3      C0004       1   50           98.37               18             0   \n",
       "4      C0005       1   20           59.65               62             0   \n",
       "\n",
       "   PaymentMethod  InternetService  Churn  \n",
       "0              0                1      0  \n",
       "1              2                1      0  \n",
       "2              2                1      0  \n",
       "3              0                0      0  \n",
       "4              3                0      0  "
      ]
     },
     "execution_count": 12,
     "metadata": {},
     "output_type": "execute_result"
    }
   ],
   "source": [
    "data.head()"
   ]
  },
  {
   "cell_type": "markdown",
   "id": "45622496-6d17-46ea-bd03-98b308f36aba",
   "metadata": {},
   "source": [
    "# 7. Build a Logistic Regression model"
   ]
  },
  {
   "cell_type": "code",
   "execution_count": 13,
   "id": "c2b954f7-265c-46f4-b8ac-f69af9007448",
   "metadata": {},
   "outputs": [
    {
     "name": "stdout",
     "output_type": "stream",
     "text": [
      "Original class distribution:\n",
      "Churn\n",
      "0    381\n",
      "1    119\n",
      "Name: count, dtype: int64\n",
      "\n",
      "Resampled class distribution:\n",
      "Churn\n",
      "0    381\n",
      "1    381\n",
      "Name: count, dtype: int64\n"
     ]
    }
   ],
   "source": [
    "from imblearn.over_sampling import SMOTE\n",
    "# Separate features and target variable\n",
    "X_selection = data.drop(['Churn', 'CustomerID'], axis=1)\n",
    "y = data['Churn']\n",
    "\n",
    "# Initialize SMOTE\n",
    "smote = SMOTE(random_state=42)\n",
    "\n",
    "# Apply SMOTE to the data\n",
    "X_resampled, y_resampled = smote.fit_resample(X_selection, y)\n",
    "\n",
    "# Display the new class distribution\n",
    "print(\"Original class distribution:\")\n",
    "print(y.value_counts())\n",
    "print(\"\\nResampled class distribution:\")\n",
    "print(y_resampled.value_counts())"
   ]
  },
  {
   "cell_type": "code",
   "execution_count": 14,
   "id": "1a4b8513-bf98-4703-8364-b304edbc2504",
   "metadata": {},
   "outputs": [],
   "source": [
    "from sklearn.model_selection import train_test_split\n",
    "\n",
    "# Assuming X_res and y_res are your features and labels after SMOTE or preprocessing\n",
    "X_train, X_test, y_train, y_test = train_test_split(\n",
    "    X_resampled, y_resampled, test_size=0.20, stratify=y_resampled, random_state=42\n",
    ")\n"
   ]
  },
  {
   "cell_type": "code",
   "execution_count": 15,
   "id": "b7d46a98-b11d-472e-b0b2-63a1344c4cd2",
   "metadata": {},
   "outputs": [
    {
     "name": "stdout",
     "output_type": "stream",
     "text": [
      "Model Evaluation Metrics:\n",
      "Accuracy : 0.6601\n",
      "Precision: 0.6500\n",
      "Recall   : 0.6842\n",
      "F1-score : 0.6667\n"
     ]
    }
   ],
   "source": [
    "from sklearn.linear_model import LogisticRegression\n",
    "from sklearn.metrics import accuracy_score, precision_score, recall_score, f1_score\n",
    "\n",
    "# 1. Train the Logistic Regression model on SMOTE-resampled data\n",
    "model = LogisticRegression(max_iter=1000)\n",
    "model.fit(X_resampled, y_resampled)\n",
    "\n",
    "# 2. Predict on the original test set\n",
    "y_pred = model.predict(X_test)\n",
    "\n",
    "# 3. Evaluate the model using 4 key metrics\n",
    "accuracy = accuracy_score(y_test, y_pred)\n",
    "precision = precision_score(y_test, y_pred, zero_division=0)\n",
    "recall = recall_score(y_test, y_pred, zero_division=0)\n",
    "f1 = f1_score(y_test, y_pred, zero_division=0)\n",
    "\n",
    "# 4. Print the results\n",
    "print(\"Model Evaluation Metrics:\")\n",
    "print(f\"Accuracy : {accuracy:.4f}\")\n",
    "print(f\"Precision: {precision:.4f}\")\n",
    "print(f\"Recall   : {recall:.4f}\")\n",
    "print(f\"F1-score : {f1:.4f}\")"
   ]
  },
  {
   "cell_type": "markdown",
   "id": "1208e4d9-7fde-4a5c-b14a-90d281724e44",
   "metadata": {},
   "source": [
    "# 8. Explain why train-test split is necessary"
   ]
  },
  {
   "cell_type": "markdown",
   "id": "2cf6d1db-ade9-46f7-b37b-dff84614d237",
   "metadata": {},
   "source": [
    "### Answer: Train-test split is necessary to evaluate model performance on unseen data and avoid overfitting. It ensures the model generalizes well."
   ]
  },
  {
   "cell_type": "markdown",
   "id": "6235ccd9-042a-4768-bcb0-349b81a68d8d",
   "metadata": {},
   "source": [
    "# 9. Create a confusion matrix"
   ]
  },
  {
   "cell_type": "code",
   "execution_count": 16,
   "id": "3d85a130-9162-48ba-9bfb-ecab7527daa6",
   "metadata": {},
   "outputs": [
    {
     "data": {
      "image/png": "[encoded data removed]",
      "text/plain": [
       "<Figure size 640x480 with 2 Axes>"
      ]
     },
     "metadata": {},
     "output_type": "display_data"
    }
   ],
   "source": [
    "from sklearn.metrics import confusion_matrix, ConfusionMatrixDisplay\n",
    "\n",
    "cm = confusion_matrix(y_test, y_pred)\n",
    "disp = ConfusionMatrixDisplay(confusion_matrix=cm)\n",
    "disp.plot()\n",
    "plt.show()"
   ]
  },
  {
   "cell_type": "markdown",
   "id": "606bbc43-a62b-461d-8e04-801e7a11e3c5",
   "metadata": {},
   "source": [
    "# 10. Find most important features using any model"
   ]
  },
  {
   "cell_type": "code",
   "execution_count": 17,
   "id": "08644ab2-9a0b-40f5-b7f0-ecfec4513504",
   "metadata": {},
   "outputs": [
    {
     "data": {
      "image/png": "[encoded data removed]",
      "text/plain": [
       "<Figure size 640x480 with 1 Axes>"
      ]
     },
     "metadata": {},
     "output_type": "display_data"
    }
   ],
   "source": [
    "from sklearn.ensemble import RandomForestClassifier\n",
    "\n",
    "rf = RandomForestClassifier()\n",
    "rf.fit(X_train, y_train)\n",
    "\n",
    "importances = pd.Series(rf.feature_importances_, index=X_selection.columns)\n",
    "#importances = pd.Series(rf.feature_importances_, index=X.columns)\n",
    "importances.sort_values(ascending=False).plot(kind='bar')\n",
    "plt.title(\"Feature Importance\")\n",
    "plt.show()"
   ]
  },
  {
   "cell_type": "markdown",
   "id": "9b6a8f97-7fe0-4677-8c65-61eae8089bf4",
   "metadata": {},
   "source": [
    "#  11. Perform hyperparameter tuning using GridSearchCV or RandomizedSearchCV on a Random  Forest model."
   ]
  },
  {
   "cell_type": "code",
   "execution_count": 18,
   "id": "bfbd0929-34a8-4a49-b9f6-35ac7c375778",
   "metadata": {},
   "outputs": [
    {
     "name": "stdout",
     "output_type": "stream",
     "text": [
      "{'max_depth': None, 'n_estimators': 100}\n"
     ]
    }
   ],
   "source": [
    "from sklearn.model_selection import GridSearchCV\n",
    "\n",
    "param_grid = {\n",
    "    'n_estimators': [100, 200],\n",
    "    'max_depth': [None, 10, 20]\n",
    "}\n",
    "\n",
    "grid = GridSearchCV(RandomForestClassifier(), param_grid, cv=3)\n",
    "grid.fit(X_train, y_train)\n",
    "print(grid.best_params_)"
   ]
  },
  {
   "cell_type": "code",
   "execution_count": 20,
   "id": "22ccacea-19d9-4f33-9cd6-d914ee84203e",
   "metadata": {},
   "outputs": [
    {
     "name": "stdout",
     "output_type": "stream",
     "text": [
      "Random Forest Evaluation with Best Parameters:\n",
      "Accuracy : 1.0000\n",
      "Precision: 1.0000\n",
      "Recall   : 1.0000\n",
      "F1-score : 1.0000\n"
     ]
    }
   ],
   "source": [
    "from sklearn.ensemble import RandomForestClassifier\n",
    "from sklearn.metrics import accuracy_score, precision_score, recall_score, f1_score\n",
    "\n",
    "# 1. Get the best parameters from GridSearchCV\n",
    "best_params = grid.best_params_\n",
    "\n",
    "# 2. Create a new Random Forest model with those best parameters\n",
    "rf_best = RandomForestClassifier(n_estimators=best_params['n_estimators'],\n",
    "                                 max_depth=best_params['max_depth'],\n",
    "                                 random_state=42)\n",
    "\n",
    "# 3. Train the model (use SMOTE-resampled data if you already balanced it)\n",
    "rf_best.fit(X_resampled, y_resampled)\n",
    "\n",
    "# 4. Predict on the original test set\n",
    "y_pred_rf = rf_best.predict(X_test)\n",
    "\n",
    "# 5. Evaluate the model\n",
    "accuracy = accuracy_score(y_test, y_pred_rf)\n",
    "precision = precision_score(y_test, y_pred_rf, zero_division=0)\n",
    "recall = recall_score(y_test, y_pred_rf, zero_division=0)\n",
    "f1 = f1_score(y_test, y_pred_rf, zero_division=0)\n",
    "\n",
    "# 6. Print evaluation results\n",
    "print(\"Random Forest Evaluation with Best Parameters:\")\n",
    "print(f\"Accuracy : {accuracy:.4f}\")\n",
    "print(f\"Precision: {precision:.4f}\")\n",
    "print(f\"Recall   : {recall:.4f}\")\n",
    "print(f\"F1-score : {f1:.4f}\")\n"
   ]
  },
  {
   "cell_type": "code",
   "execution_count": 21,
   "id": "dbb2a664-e8a9-4c06-855b-01b4d19af61f",
   "metadata": {},
   "outputs": [
    {
     "name": "stdout",
     "output_type": "stream",
     "text": [
      "Fitting 5 folds for each of 50 candidates, totalling 250 fits\n",
      "✅ Best Parameters from RandomizedSearchCV:\n",
      "  n_estimators: 150\n",
      "  min_samples_split: 2\n",
      "  min_samples_leaf: 1\n",
      "  max_depth: 20\n",
      "  bootstrap: False\n",
      "\n",
      "📊 Random Forest Evaluation (Tuned Model with RandomizedSearchCV):\n",
      "Accuracy : 1.0000\n",
      "Precision: 1.0000\n",
      "Recall   : 1.0000\n",
      "F1-score : 1.0000\n"
     ]
    }
   ],
   "source": [
    "from sklearn.ensemble import RandomForestClassifier\n",
    "from sklearn.model_selection import RandomizedSearchCV\n",
    "from sklearn.metrics import accuracy_score, precision_score, recall_score, f1_score\n",
    "import numpy as np\n",
    "\n",
    "# Define the parameter grid for RandomizedSearchCV\n",
    "param_dist = {\n",
    "    'n_estimators': np.arange(50, 301, 50),  # number of trees\n",
    "    'max_depth': [None] + list(np.arange(5, 21, 5)),  # max depth or None\n",
    "    'min_samples_split': [2, 5, 10],  # min samples to split a node\n",
    "    'min_samples_leaf': [1, 2, 4],    # min samples at a leaf node\n",
    "    'bootstrap': [True, False]        # bootstrap samples or not\n",
    "}\n",
    "\n",
    "# Create a Random Forest classifier\n",
    "rf = RandomForestClassifier(random_state=42)\n",
    "\n",
    "# Setup RandomizedSearchCV\n",
    "random_search = RandomizedSearchCV(\n",
    "    estimator=rf,\n",
    "    param_distributions=param_dist,\n",
    "    n_iter=50,  # number of parameter settings sampled\n",
    "    scoring='accuracy',  # you can change scoring based on your goal\n",
    "    cv=5,\n",
    "    verbose=2,\n",
    "    random_state=42,\n",
    "    n_jobs=-1\n",
    ")\n",
    "\n",
    "# Fit on SMOTE-resampled training data\n",
    "random_search.fit(X_resampled, y_resampled)\n",
    "\n",
    "# Get best parameters\n",
    "best_params = random_search.best_params_\n",
    "print(\"✅ Best Parameters from RandomizedSearchCV:\")\n",
    "for param, value in best_params.items():\n",
    "    print(f\"  {param}: {value}\")\n",
    "\n",
    "# Create model with best params\n",
    "rf_best = RandomForestClassifier(\n",
    "    n_estimators=best_params['n_estimators'],\n",
    "    max_depth=best_params['max_depth'],\n",
    "    min_samples_split=best_params['min_samples_split'],\n",
    "    min_samples_leaf=best_params['min_samples_leaf'],\n",
    "    bootstrap=best_params['bootstrap'],\n",
    "    random_state=42\n",
    ")\n",
    "\n",
    "# Train model on SMOTE-resampled training data\n",
    "rf_best.fit(X_resampled, y_resampled)\n",
    "\n",
    "# Predict on original test set\n",
    "y_pred_rf = rf_best.predict(X_test)\n",
    "\n",
    "# Evaluate\n",
    "rf_accuracy = accuracy_score(y_test, y_pred_rf)\n",
    "rf_precision = precision_score(y_test, y_pred_rf, zero_division=0)\n",
    "rf_recall = recall_score(y_test, y_pred_rf, zero_division=0)\n",
    "rf_f1 = f1_score(y_test, y_pred_rf, zero_division=0)\n",
    "\n",
    "print(\"\\n📊 Random Forest Evaluation (Tuned Model with RandomizedSearchCV):\")\n",
    "print(f\"Accuracy : {accuracy:.4f}\")\n",
    "print(f\"Precision: {precision:.4f}\")\n",
    "print(f\"Recall   : {recall:.4f}\")\n",
    "print(f\"F1-score : {f1:.4f}\")"
   ]
  },
  {
   "cell_type": "markdown",
   "id": "f974520a-72d8-4a5d-9ecd-0721e416059c",
   "metadata": {},
   "source": [
    "# 12. Handle class imbalance if the dataset is imbalanced. Show the technique you used"
   ]
  },
  {
   "cell_type": "markdown",
   "id": "8c8681d6-b912-4ccc-b887-9372c04afaeb",
   "metadata": {},
   "source": [
    "### SMOTE creates synthetic examples of the minority class to balance the dataset instead of simply duplicating minority class examples."
   ]
  },
  {
   "cell_type": "markdown",
   "id": "88a321fb-c7a9-40d8-856c-5dd7fca02f3b",
   "metadata": {},
   "source": [
    "#  13. Build and compare at least two different models (e.g., Random Forest vs XGBoost).\r\n"
   ]
  },
  {
   "cell_type": "code",
   "execution_count": 22,
   "id": "a55e5077-a82f-49b3-8376-02245fbe9ba4",
   "metadata": {},
   "outputs": [
    {
     "name": "stdout",
     "output_type": "stream",
     "text": [
      "\n",
      "📊 XGBoost Model Evaluation:\n",
      "Accuracy : 1.0000\n",
      "Precision: 1.0000\n",
      "Recall   : 1.0000\n",
      "F1-score : 1.0000\n"
     ]
    }
   ],
   "source": [
    "from xgboost import XGBClassifier\n",
    "from sklearn.metrics import accuracy_score, precision_score, recall_score, f1_score\n",
    "\n",
    "# 1. Initialize XGBoost model\n",
    "xgb_model = XGBClassifier(random_state=42, eval_metric='logloss')\n",
    "\n",
    "# 2. Train the model on SMOTE-resampled data\n",
    "xgb_model.fit(X_resampled, y_resampled)\n",
    "\n",
    "# 3. Predict on the original test set\n",
    "y_pred_xgb = xgb_model.predict(X_test)\n",
    "\n",
    "# 4. Evaluate the model\n",
    "accuracy = accuracy_score(y_test, y_pred_xgb)\n",
    "precision = precision_score(y_test, y_pred_xgb, zero_division=0)\n",
    "recall = recall_score(y_test, y_pred_xgb, zero_division=0)\n",
    "f1 = f1_score(y_test, y_pred_xgb, zero_division=0)\n",
    "\n",
    "# 5. Print evaluation metrics\n",
    "print(\"\\n📊 XGBoost Model Evaluation:\")\n",
    "print(f\"Accuracy : {accuracy:.4f}\")\n",
    "print(f\"Precision: {precision:.4f}\")\n",
    "print(f\"Recall   : {recall:.4f}\")\n",
    "print(f\"F1-score : {f1:.4f}\")\n"
   ]
  },
  {
   "cell_type": "code",
   "execution_count": 23,
   "id": "303ad14e-de3a-4ae5-bc3e-1ff187ff7650",
   "metadata": {},
   "outputs": [
    {
     "name": "stdout",
     "output_type": "stream",
     "text": [
      "Fitting 5 folds for each of 50 candidates, totalling 250 fits\n",
      "✅ Best Parameters found by RandomizedSearchCV:\n",
      "  subsample: 0.8\n",
      "  n_estimators: 200\n",
      "  max_depth: 10\n",
      "  learning_rate: 0.1\n",
      "  colsample_bytree: 0.8\n",
      "\n",
      "📊 XGBoost (Tuned) Evaluation:\n",
      "Accuracy : 1.0000\n",
      "Precision: 1.0000\n",
      "Recall   : 1.0000\n",
      "F1-score : 1.0000\n"
     ]
    }
   ],
   "source": [
    "from sklearn.model_selection import RandomizedSearchCV\n",
    "from xgboost import XGBClassifier\n",
    "from sklearn.metrics import accuracy_score, precision_score, recall_score, f1_score\n",
    "\n",
    "# Define parameter grid\n",
    "param_dist = {\n",
    "    'n_estimators': [100, 200, 300],\n",
    "    'max_depth': [3, 5, 7, 10],\n",
    "    'learning_rate': [0.01, 0.1, 0.2],\n",
    "    'subsample': [0.6, 0.8, 1.0],\n",
    "    'colsample_bytree': [0.6, 0.8, 1.0]\n",
    "}\n",
    "\n",
    "# Initialize model\n",
    "xgb_clf = XGBClassifier(random_state=42, eval_metric='logloss')\n",
    "\n",
    "# Apply RandomizedSearchCV\n",
    "xgb_random = RandomizedSearchCV(\n",
    "    estimator=xgb_clf,\n",
    "    param_distributions=param_dist,\n",
    "    n_iter=50,\n",
    "    scoring='accuracy',\n",
    "    cv=5,\n",
    "    verbose=2,\n",
    "    random_state=42,\n",
    "    n_jobs=-1\n",
    ")\n",
    "\n",
    "# Fit on resampled training data\n",
    "xgb_random.fit(X_resampled, y_resampled)\n",
    "\n",
    "# Print best parameters\n",
    "print(\"✅ Best Parameters found by RandomizedSearchCV:\")\n",
    "for param, value in xgb_random.best_params_.items():\n",
    "    print(f\"  {param}: {value}\")\n",
    "\n",
    "# Best model\n",
    "best_xgb = xgb_random.best_estimator_\n",
    "\n",
    "# Predict on test set\n",
    "y_pred = best_xgb.predict(X_test)\n",
    "\n",
    "# Evaluate\n",
    "xgb_accuracy = accuracy_score(y_test, y_pred)\n",
    "xgb_precision = precision_score(y_test, y_pred, zero_division=0)\n",
    "xgb_recall = recall_score(y_test, y_pred, zero_division=0)\n",
    "xgb_f1 = f1_score(y_test, y_pred, zero_division=0)\n",
    "\n",
    "print(\"\\n📊 XGBoost (Tuned) Evaluation:\")\n",
    "print(f\"Accuracy : {accuracy:.4f}\")\n",
    "print(f\"Precision: {precision:.4f}\")\n",
    "print(f\"Recall   : {recall:.4f}\")\n",
    "print(f\"F1-score : {f1:.4f}\")\n"
   ]
  },
  {
   "cell_type": "markdown",
   "id": "33da0f01-7ea7-442f-8b42-27307826e188",
   "metadata": {},
   "source": [
    "# 14. Implement feature scaling and explain if it is needed for all models.\r\n"
   ]
  },
  {
   "cell_type": "markdown",
   "id": "40ed3a9e-b78d-4be9-90ea-627f9d861fe2",
   "metadata": {},
   "source": [
    "### Apply feature scaling only for Logistic Regression.No need to scale for Random Forest or XGBoost"
   ]
  },
  {
   "cell_type": "code",
   "execution_count": 29,
   "id": "594f8495-86b1-442d-b03d-49e3666908d7",
   "metadata": {},
   "outputs": [
    {
     "name": "stdout",
     "output_type": "stream",
     "text": [
      "\n",
      "📊 Logistic Regression (Scaled) Evaluation:\n",
      "Accuracy : 1.0000\n",
      "Precision: 1.0000\n",
      "Recall   : 1.0000\n",
      "F1-score : 1.0000\n"
     ]
    }
   ],
   "source": [
    "from sklearn.preprocessing import StandardScaler\n",
    "from sklearn.linear_model import LogisticRegression\n",
    "from sklearn.metrics import accuracy_score, precision_score, recall_score, f1_score\n",
    "\n",
    "# Step 1: Apply Standard Scaling to Logistic Regression only\n",
    "scaler = StandardScaler()\n",
    "X_train_scaled = scaler.fit_transform(X_train)\n",
    "X_test_scaled = scaler.transform(X_test)\n",
    "\n",
    "# Step 2: Train Logistic Regression\n",
    "model = LogisticRegression(random_state=42)\n",
    "model.fit(X_train_scaled, y_train)\n",
    "\n",
    "# Step 3: Predict and Evaluate\n",
    "y_pred_lr = lr.predict(X_test_scaled)\n",
    "\n",
    "lr_accuracy = accuracy_score(y_test, y_pred_lr)\n",
    "lr_precision = precision_score(y_test, y_pred_lr, zero_division=0)\n",
    "lr_recall = recall_score(y_test, y_pred_lr, zero_division=0)\n",
    "lr_f1 = f1_score(y_test, y_pred_lr, zero_division=0)\n",
    "\n",
    "print(\"\\n📊 Logistic Regression (Scaled) Evaluation:\")\n",
    "print(f\"Accuracy : {accuracy:.4f}\")\n",
    "print(f\"Precision: {precision:.4f}\")\n",
    "print(f\"Recall   : {recall:.4f}\")\n",
    "print(f\"F1-score : {f1:.4f}\")"
   ]
  },
  {
   "cell_type": "markdown",
   "id": "eb23a628-a4e4-4d22-890c-36b2364adcbb",
   "metadata": {},
   "source": [
    "# 15. Create a simple dashboard (using matplotlib or seaborn) showing key churn insights and model  performance"
   ]
  },
  {
   "cell_type": "code",
   "execution_count": 30,
   "id": "b89d35d4-3983-4846-8e8d-802124141399",
   "metadata": {},
   "outputs": [
    {
     "data": {
      "image/png": "[encoded data removed]",
      "text/plain": [
       "<Figure size 1600x1200 with 4 Axes>"
      ]
     },
     "metadata": {},
     "output_type": "display_data"
    }
   ],
   "source": [
    "import matplotlib.pyplot as plt\n",
    "import seaborn as sns\n",
    "import pandas as pd\n",
    "\n",
    "# Your dataset containing 'Churn', 'MonthlyCharges', 'Tenure (Months)', etc.\n",
    "# Let's call it 'data_df' to avoid conflict with model metrics data\n",
    "# (Make sure you have this dataset loaded with those columns!)\n",
    "\n",
    "data_df = pd.read_csv(\"C:/Users/Lenovo/Downloads/customer_churn_sample.csv\")\n",
    "\n",
    "# Define model names and evaluation metrics (fill with your actual values)\n",
    "models = ['Random Forest', 'Logistic Regression', 'XGBoost']\n",
    "metrics_names = ['Accuracy', 'Precision', 'Recall', 'F1-score']\n",
    "\n",
    "rf_metrics = [rf_accuracy, rf_precision, rf_recall, rf_f1]\n",
    "lr_metrics = [lr_accuracy, lr_precision, lr_recall, lr_f1]\n",
    "xgb_metrics = [xgb_accuracy, xgb_precision, xgb_recall, xgb_f1]\n",
    "\n",
    "# Combine metrics into a DataFrame for plotting\n",
    "metrics_data = {\n",
    "    'Metric': metrics_names * 3,\n",
    "    'Score': rf_metrics + lr_metrics + xgb_metrics,\n",
    "    'Model': ['Random Forest']*4 + ['Logistic Regression']*4 + ['XGBoost']*4\n",
    "}\n",
    "data_metrics = pd.DataFrame(metrics_data)\n",
    "\n",
    "# Create the dashboard figure\n",
    "plt.figure(figsize=(16, 12))\n",
    "\n",
    "# Plot 1: Churn Distribution\n",
    "plt.subplot(2, 2, 1)\n",
    "sns.countplot(data=data_df, x='Churn', hue='Churn', palette='Set2', legend=False)\n",
    "plt.title(\"Churn Distribution\")\n",
    "plt.xlabel(\"Churn\")\n",
    "plt.ylabel(\"Count\")\n",
    "\n",
    "# Plot 2: Monthly Charges vs Churn\n",
    "plt.subplot(2, 2, 2)\n",
    "sns.boxplot(data=data_df, x='Churn', y='MonthlyCharges', hue='Churn', palette='Set3', legend=False)\n",
    "plt.title(\"Monthly Charges by Churn\")\n",
    "plt.xlabel(\"Churn\")\n",
    "plt.ylabel(\"Monthly Charges\")\n",
    "\n",
    "# Plot 3: Tenure vs Churn\n",
    "plt.subplot(2, 2, 3)\n",
    "sns.boxplot(data=data_df, x='Churn', y='Tenure (Months)', hue='Churn', palette='Set1', legend=False)\n",
    "plt.title(\"Tenure by Churn\")\n",
    "plt.xlabel(\"Churn\")\n",
    "plt.ylabel(\"Tenure (Months)\")\n",
    "\n",
    "# Plot 4: Model Performance Comparison\n",
    "plt.subplot(2, 2, 4)\n",
    "sns.barplot(data=data_metrics, x='Metric', y='Score', hue='Model', palette='viridis')\n",
    "plt.ylim(0, 1.05)\n",
    "plt.title(\"Model Performance Comparison\")\n",
    "plt.legend(title=\"Model\", loc='upper right')\n",
    "\n",
    "# Final layout adjustment and show plot\n",
    "plt.tight_layout()\n",
    "plt.show()\n"
   ]
  },
  {
   "cell_type": "code",
   "execution_count": null,
   "id": "ff35ec90-e486-4176-8029-398834f9c884",
   "metadata": {},
   "outputs": [],
   "source": []
  }
 ],
 "metadata": {
  "kernelspec": {
   "display_name": "Python 3 (ipykernel)",
   "language": "python",
   "name": "python3"
  },
  "language_info": {
   "codemirror_mode": {
    "name": "ipython",
    "version": 3
   },
   "file_extension": ".py",
   "mimetype": "text/x-python",
   "name": "python",
   "nbconvert_exporter": "python",
   "pygments_lexer": "ipython3",
   "version": "3.12.4"
  }
 },
 "nbformat": 4,
 "nbformat_minor": 5
}
